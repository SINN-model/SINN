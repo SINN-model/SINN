{
 "cells": [
  {
   "cell_type": "code",
   "execution_count": null,
   "metadata": {
    "colab": {
     "base_uri": "https://localhost:8080/"
    },
    "id": "PoQzTwPhp5Bf",
    "outputId": "2b7d25d9-4610-4b50-888b-bbbb89ec13d6"
   },
   "outputs": [],
   "source": [
    "!hostname"
   ]
  },
  {
   "cell_type": "code",
   "execution_count": null,
   "metadata": {
    "colab": {
     "base_uri": "https://localhost:8080/"
    },
    "id": "MjvKF2gOp7dZ",
    "outputId": "e527c178-cab4-4b6e-ebdf-4a24943a6483"
   },
   "outputs": [],
   "source": [
    "!nvidia-smi"
   ]
  },
  {
   "cell_type": "code",
   "execution_count": null,
   "metadata": {
    "colab": {
     "base_uri": "https://localhost:8080/"
    },
    "id": "a5QI46hyshM1",
    "outputId": "dc8aca57-b002-41f0-d1bd-ade33d79a39c"
   },
   "outputs": [],
   "source": [
    "import os\n",
    "print(os.getpid())"
   ]
  },
  {
   "cell_type": "code",
   "execution_count": null,
   "metadata": {
    "id": "3cvBm1VgCPiK"
   },
   "outputs": [],
   "source": [
    "import itertools as it\n",
    "import pickle\n",
    "import torch\n",
    "import torch.nn as nn\n",
    "import torch.optim as optim\n",
    "import torch.fft\n",
    "import torch.nn.functional as F\n",
    "import numpy as np\n",
    "import pandas as pd\n",
    "import matplotlib.pyplot as plt\n",
    "import sdeint\n",
    "from toolbox import (\n",
    "    make_loss,\n",
    "    StatLoss,\n",
    "    SINN,\n",
    "    FPU\n",
    ")"
   ]
  },
  {
   "cell_type": "code",
   "execution_count": null,
   "metadata": {},
   "outputs": [],
   "source": [
    "device = torch.device('cuda')"
   ]
  },
  {
   "cell_type": "code",
   "execution_count": null,
   "metadata": {},
   "outputs": [],
   "source": [
    "def Poisson_process_noise_generator(batch_size, num_steps, r, la):\n",
    "\n",
    "    N = np.random.poisson(la, (batch_size, num_steps + 2))\n",
    "    loc = N.cumsum(axis=1)\n",
    "    M = loc[:, -1].max()\n",
    "    R = np.random.exponential(r, (batch_size, M + 1))\n",
    "    R_cumulative = R.cumsum(axis=1)\n",
    "\n",
    "    xi = np.array([r[l[1:-1]] - r[l[0:-2]] for r, l in zip(R_cumulative, loc)])\n",
    "\n",
    "    return xi"
   ]
  },
  {
   "cell_type": "code",
   "execution_count": null,
   "metadata": {},
   "outputs": [],
   "source": [
    "%%time\n",
    "\n",
    "#### Generating SINN training data by solving SDE driven by Poisson noise \n",
    "import numpy as np\n",
    "import matplotlib.pyplot as plt\n",
    "from scipy import stats\n",
    "from scipy.integrate import quad\n",
    "\n",
    "#### Parameters \n",
    "mag=1                # Magnitude of the poisson white noise\n",
    "gamma=1              # Harmonic potential U(x)=gamma*x^2/2  \n",
    "lambda_p=2           # Poisson distribution lambda\n",
    "r=1                  # Exponential distribution r\n",
    "dt=0.01 \n",
    "delta_t= 0.2\n",
    "batch = 400\n",
    "sec_length = 400\n",
    "\n",
    "\n",
    "#### SDE solver (EM scheme) with Poisson noise generator\n",
    "Time = 5*delta_t*sec_length\n",
    "print(Time)\n",
    "length=int(Time/dt)+1\n",
    "t = np.linspace(0,Time,length) # define time axis\n",
    "gap=int(delta_t/dt)\n",
    "t_store=t[0:-1:gap]\n",
    "q_store = np.zeros([t_store.size+1,batch])\n",
    "print(q_store.shape)\n",
    "q0=np.zeros((1,batch))\n",
    "q1=np.zeros((1,batch))\n",
    "# solve Poisson SDE\n",
    "j=0\n",
    "for i in range(1,length):\n",
    "    q1 = q0 - gamma*q0*dt+ mag*Poisson_process_noise_generator(1,batch,r,lambda_p*dt)\n",
    "    if i % gap ==0:\n",
    "        q_store[j,:]=q1\n",
    "        j=j+1\n",
    "    q0=q1\n",
    "\n",
    "Toss=int(t_store.size/4)        \n",
    "q_store=q_store[Toss:-1,:]         \n",
    "print(q_store.shape)\n",
    "\n",
    "plt.figure(1)\n",
    "for i in range(2):\n",
    "    plt.plot(t_store[Toss:]-t_store[Toss],q_store[:,i])\n",
    "plt.legend()\n",
    "plt.title(\"Solution of the Poisson SDE\")\n",
    "\n",
    "\n",
    "# Construct the sample traj for SINN learning \n",
    "ini=np.random.exponential(1,(sec_length,batch))\n",
    "Traj=q_store[0:sec_length,:]\n",
    "T=np.arange(len(Traj[:,1]))*delta_t\n",
    "print(ini.shape, Traj.shape)\n",
    "x=np.linspace(0,10,sec_length)\n",
    "\n",
    "\n"
   ]
  },
  {
   "cell_type": "code",
   "execution_count": null,
   "metadata": {
    "id": "_khwqbnXWVYO"
   },
   "outputs": [],
   "source": [
    "# Reformulating data into Torch tensors \n",
    "# Input of SINN should be of the form (seq_len, batch, input_size)\n",
    "\n",
    "ini=np.random.exponential(1,(2*sec_length,batch)).astype(np.float32) \n",
    "input = torch.from_numpy(ini.reshape(2*sec_length, batch,1)).to(device)\n",
    "\n",
    "batch_validation = batch\n",
    "val=np.random.exponential(1,(2*sec_length,batch_validation)).astype(np.float32) \n",
    "val_set = torch.from_numpy(val.reshape(2*sec_length, batch_validation,1)).to(device)\n",
    "\n",
    "Traj = Traj.astype(np.float32) \n",
    "target = torch.from_numpy(Traj.reshape(sec_length, batch,1)).to(device)\n",
    "\n",
    "print('The torch input size is', input.size(), input.dtype)\n",
    "print('The torch validation size is', val_set.size(), val_set.dtype)\n",
    "print('The torch target size is', target.size(), target.dtype)"
   ]
  },
  {
   "cell_type": "code",
   "execution_count": null,
   "metadata": {
    "id": "RMly6oLYWfEc"
   },
   "outputs": [],
   "source": [
    "# Defining Loss functions\n",
    "LAGS = 400\n",
    "N = 400\n",
    "loss_acf_fft = make_loss('acf[fft]', target, lags=LAGS, device=device)\n",
    "loss_acf_q2 = make_loss('acf[fft]', target**2, lags=LAGS, device=device)\n",
    "loss_acf_bruteforce = make_loss('acf[bruteforce]', target, lags=LAGS, device=device)\n",
    "loss_acf_randbrute = make_loss('acf[randombrute]', target, lags=LAGS, sample_lags=20, device=device)\n",
    "loss_pdf_empirical = make_loss('pdf', target, lower=0, upper=10, n=N, device=device)"
   ]
  },
  {
   "cell_type": "code",
   "execution_count": null,
   "metadata": {},
   "outputs": [],
   "source": [
    "# Plotting target ACFs and PDF\n",
    "fig, axs = plt.subplots(1, 3, figsize=(8, 3))\n",
    "axs[0].plot(loss_acf_fft._target.cpu(),'r', label='fft')\n",
    "axs[0].plot(loss_acf_bruteforce._target.cpu(),'b:', label='bruteforce')\n",
    "axs[0].set_title('target empirical ACF')\n",
    "axs[0].set_ylim([0,1])\n",
    "x_grid=-np.linspace(-5,5,num=sec_length)\n",
    "axs[1].plot(loss_pdf_empirical._target.cpu(),'r--')\n",
    "axs[1].set_title('target empirical PDF')\n",
    "axs[2].plot(loss_acf_q2._target.cpu())\n",
    "axs[2].set_title('target empirical ACF for q^2')\n",
    "axs[0].legend()\n",
    "plt.show()"
   ]
  },
  {
   "cell_type": "code",
   "execution_count": null,
   "metadata": {},
   "outputs": [],
   "source": [
    "### Defining SINN model\n",
    "net = SINN(1, 5, 2, 1).to(device)\n",
    "optimizer = optim.Adam(net.parameters(), lr=1e-3)"
   ]
  },
  {
   "cell_type": "code",
   "execution_count": null,
   "metadata": {
    "id": "HTj11wAsW9Rc",
    "scrolled": true
   },
   "outputs": [],
   "source": [
    "%%time\n",
    "# Training SINN\n",
    "T_error=[]\n",
    "V_error=[]\n",
    "Step=[]\n",
    "for step in range(20000):\n",
    "    optimizer.zero_grad()\n",
    "    ini=np.random.exponential(1,(2*sec_length,batch)).astype(np.float32) \n",
    "    input = torch.from_numpy(ini.reshape(2*sec_length, batch,1)).to(device)\n",
    "    prediction, _ = net(input)\n",
    "    prediction = prediction[-LAGS:,:,:]\n",
    "    loss = loss_acf_fft(prediction) + loss_pdf_empirical(prediction) + loss_acf_q2(prediction**2)\n",
    "    loss.backward()\n",
    "    optimizer.step()\n",
    "    if step % 50 == 0: \n",
    "        with torch.no_grad():\n",
    "            pred_val, _ = net(val_set)\n",
    "            pred_val = pred_val[-LAGS:,:,:]\n",
    "            loss_val = loss_acf_bruteforce(pred_val)+ loss_pdf_empirical(pred_val) + loss_acf_q2(pred_val**2)\n",
    "            loss_val_acf = loss_acf_bruteforce(pred_val)\n",
    "            print('[%d]-th step loss: %.3f, %.3f' % (step, loss, loss_val))\n",
    "            T_error.append(loss.detach().cpu().numpy())\n",
    "            V_error.append(loss_val.detach().cpu().numpy())\n",
    "            Step.append(step)\n",
    "    if loss<=0.0005 and loss_val<=0.0005:\n",
    "            break\n",
    "print('Training finished')"
   ]
  },
  {
   "cell_type": "code",
   "execution_count": null,
   "metadata": {},
   "outputs": [],
   "source": [
    "### Plotting the training and the generalization error\n",
    "fig = plt.figure(1)\n",
    "ax = fig.add_axes([0.15, 0.15, 0.75, 0.75])\n",
    "plt.title(\"Error plot\",fontsize=15) \n",
    "plt.loglog(Step, T_error,'r',label='Training error')\n",
    "plt.loglog(Step, V_error,'b--',label='Validation error')\n",
    "plt.xlabel(r'Training times $n$',fontsize=15)\n",
    "plt.ylabel(r'$l_1+l_2$',fontsize=15)\n",
    "plt.legend(frameon=False,fontsize=15)\n",
    "# plt.savefig(\"figs/Poisson_training_error.pdf\", dpi=150)\n"
   ]
  },
  {
   "cell_type": "code",
   "execution_count": null,
   "metadata": {
    "id": "cFvpJoZeXAnz"
   },
   "outputs": [],
   "source": [
    "## Exponentially distributed random input (newly generated)\n",
    "ran_ini = np.random.exponential(1,(2*sec_length,batch)).astype(np.float32) \n",
    "ran_input = torch.from_numpy(ran_ini.reshape(2*sec_length, batch,1)).to(device)\n",
    "Pred,_= net(ran_input)\n",
    "prediction=Pred[-sec_length:,:,:].detach().cpu().numpy().reshape(sec_length, batch)"
   ]
  },
  {
   "cell_type": "code",
   "execution_count": null,
   "metadata": {
    "id": "RtC5SsuaXCaD"
   },
   "outputs": [],
   "source": [
    "# Test 1: plot the sample path generated by SINN and the exact sample path \n",
    "skip = 0\n",
    "\n",
    "plt.figure(0) \n",
    "plt.title(\"MD trajectories\",fontsize=15) \n",
    "plt.plot(T[skip:]-T[skip], Traj[skip:, 0])\n",
    "plt.plot(T[skip:]-T[skip], Traj[skip:, 1])\n",
    "plt.plot(T[skip:]-T[skip], Traj[skip:, 2])\n",
    "plt.plot(T[skip:]-T[skip], Traj[skip:, -1])\n",
    "plt.plot(T[skip:]-T[skip], Traj[skip:, -2])\n",
    "plt.plot(T[skip:]-T[skip], Traj[skip:, -3])    \n",
    "plt.ylim([0,10])\n",
    "plt.xlabel(r'$t$',fontsize=15)\n",
    "plt.ylabel(r'$x(t)$',fontsize=15)\n",
    "plt.xticks(fontsize=15)\n",
    "plt.yticks(fontsize=15)     \n",
    "\n",
    "\n",
    "plt.figure(1)\n",
    "plt.title(\"SINN trajectories\",fontsize=15)    \n",
    "plt.plot(T[skip:]-T[skip], prediction[skip:, 0])\n",
    "plt.plot(T[skip:]-T[skip], prediction[skip:, 1])\n",
    "plt.plot(T[skip:]-T[skip], prediction[skip:, 2])\n",
    "plt.plot(T[skip:]-T[skip], prediction[skip:, -1])\n",
    "plt.plot(T[skip:]-T[skip], prediction[skip:, -2])\n",
    "plt.plot(T[skip:]-T[skip], prediction[skip:, -3])\n",
    "plt.ylim([0,10])\n",
    "plt.xlabel(r'$t$',fontsize=15)\n",
    "plt.ylabel(r'$x(t)$',fontsize=15)\n",
    "plt.xticks(fontsize=15)\n",
    "plt.yticks(fontsize=15)\n",
    "\n",
    "\n",
    "fig = plt.figure(2)\n",
    "ax = fig.add_axes([0.15, 0.15, 0.75, 0.75])\n",
    "plt.title(\"Sample trajectories\",fontsize=15)    \n",
    "plt.plot(T[skip:]-T[skip], Traj[skip:, 1], label='MD simulation')\n",
    "plt.plot(T[skip:]-T[skip], prediction[skip:, 1],'--',label='SINN simulation-Exponential')\n",
    "plt.ylim([0,10])\n",
    "plt.xlabel(r'$t$',fontsize=15)\n",
    "plt.ylabel(r'$x(t)$',fontsize=15)\n",
    "plt.legend(frameon=False,fontsize=15)\n",
    "plt.xticks(fontsize=15)\n",
    "plt.yticks([0,2,4,6,8,10],fontsize=15)\n",
    "# plt.savefig(\"figs/Poisson_traj.pdf\", dpi=150)\n",
    "\n",
    "\n",
    "\n"
   ]
  },
  {
   "cell_type": "code",
   "execution_count": null,
   "metadata": {
    "id": "M8YcJ51nXPRb"
   },
   "outputs": [],
   "source": [
    "# Test 2: plot the ACF of the sample path generated by the SINN and the exact ACF  \n",
    "\n",
    "# acf_p=StatLoss.acf(Pred[-sec_length:,:,:],method='bruteforce')\n",
    "acf_p=StatLoss.acf(Pred[-sec_length:,:,:])\n",
    "acf_t=StatLoss.acf(target)\n",
    "corr_p=acf_p.mean(axis=1).detach().cpu().numpy()\n",
    "corr_t=acf_t.mean(axis=1).detach().cpu().numpy()\n",
    "\n",
    "\n",
    "fig = plt.figure(0)\n",
    "ax = fig.add_axes([0.15, 0.15, 0.75, 0.75])\n",
    "plt.title(r'Normalized ACF',fontsize=15)    \n",
    "plt.plot(T, corr_t,'r',label=r'Exact correlation of $x(t)$')        # correlation function of the target \n",
    "plt.plot(T, corr_p, 'b--',label=r'Correlation of the output')        # Correlation function after the training      # Correlation function after the training \n",
    "plt.xlabel(r'$t$',fontsize=15)\n",
    "plt.ylabel(r'$C(t)/C(0)$',fontsize=15)\n",
    "plt.xticks(fontsize=15)\n",
    "plt.xlim(0,T[-1])\n",
    "plt.yticks([-0.2,0,0.2,0.4,0.6,0.8,1.0],fontsize=15)\n",
    "plt.legend(frameon=False,fontsize=15)\n",
    "# plt.savefig(\"figs/Poisson_acf.pdf\", dpi=150)\n",
    "\n",
    "\n",
    "\n"
   ]
  },
  {
   "cell_type": "code",
   "execution_count": null,
   "metadata": {
    "id": "xZB6UA0dd11C"
   },
   "outputs": [],
   "source": [
    "# Test 3: plot the PDF of the sample path generated by SINN and the exact PDF \n",
    "\n",
    "rho_data =  StatLoss.gauss_kde(target, -1, 10, 100).cpu()\n",
    "rho_input = StatLoss.gauss_kde(ran_input, -1, 10, 100).cpu()\n",
    "rho_prediction = StatLoss.gauss_kde(Pred[-sec_length:,:,:].detach(), -1, 10, 100).cpu()\n",
    "\n",
    "\n",
    "x=np.linspace(-1, 10, 100)\n",
    "fig = plt.figure(0)\n",
    "ax = fig.add_axes([0.15, 0.15, 0.75, 0.75])\n",
    "plt.title(r\"Equilibrium probability density function\",fontsize=15)    \n",
    "plt.plot(x, rho_data.numpy(), 'r',label=r'Exact PDF')    # target PDF\n",
    "plt.plot(x, rho_input.numpy(), 'b:', label=r'PDF of the input')     # PDF of the input\n",
    "plt.plot(x, rho_prediction.numpy(), 'g--',label=r'SINN PDF-Exponential')  # PDF after the training \n",
    "plt.xlim(-1,10)\n",
    "plt.ylim(0,1)\n",
    "plt.xlabel(r'$x$',fontsize=15)\n",
    "plt.ylabel(r'$\\rho(x)$',fontsize=15)\n",
    "plt.legend(frameon=False,fontsize=15)\n",
    "plt.xticks(fontsize=15)\n",
    "plt.yticks(fontsize=15)\n",
    "# plt.savefig(\"figs/Poisson_pdf.pdf\", dpi=150)\n",
    "\n",
    "\n",
    "# ###### Save the PDF data \n",
    "# from tempfile import TemporaryFile\n",
    "# Poisson_PDF_Exponential = TemporaryFile()\n",
    "# rho_pred_Exp=rho_prediction.numpy()\n",
    "# np.savez('Poisson_PDF_Exponential.npz', x, rho_pred_Exp)\n"
   ]
  },
  {
   "cell_type": "code",
   "execution_count": null,
   "metadata": {
    "id": "_J3tU5DyJlkJ"
   },
   "outputs": [],
   "source": [
    "# Test 4: Comparing the higher-order ACF\n",
    "\n",
    "acf2=StatLoss.acf(target**2)\n",
    "pred_norm=torch.from_numpy((prediction).reshape(sec_length, batch,1))\n",
    "acf2_app=StatLoss.acf(pred_norm**2)\n",
    "\n",
    "fig = plt.figure(0)\n",
    "ax = fig.add_axes([0.15, 0.15, 0.75, 0.75])\n",
    "plt.title(r'Normalized ACF',fontsize=15)    \n",
    "plt.plot(T, acf2.mean(axis=1).detach().cpu().numpy(),'r',label=r'Exact correlation of $x^2(t)$')        # Exact correlation function \n",
    "plt.plot(T, acf2_app.mean(axis=1).detach().cpu().numpy(), 'g--',label=r'Correlation of the output')        # Correlation function after the training \n",
    "plt.xlim(0,30)\n",
    "plt.xlabel(r'$t$',fontsize=15)\n",
    "plt.ylabel(r'$C(t)/C(0)$',fontsize=15)\n",
    "plt.xticks(fontsize=15)\n",
    "plt.yticks([-0.2,0,0.2,0.4,0.6,0.8,1.0],fontsize=15)\n",
    "plt.legend(frameon=False,fontsize=15)\n",
    "# plt.savefig(\"figs/Poisson_acf2.pdf\", dpi=150)\n",
    "\n",
    "\n"
   ]
  },
  {
   "cell_type": "code",
   "execution_count": null,
   "metadata": {},
   "outputs": [],
   "source": [
    "# Test 5: plot the expolation result, i.e. Prediction of the Poisson SDE for longer time \n",
    "[a,b,c]=input.size()\n",
    "skip=20\n",
    "scale=10\n",
    "burnin=3\n",
    "fold=800\n",
    "batch_new=50\n",
    "\n",
    "ran_ini = np.random.exponential(1,((scale-burnin)*a,batch_new,c)).astype(np.float32) \n",
    "ran_input = torch.from_numpy(ran_ini.reshape((scale-burnin)*a, batch_new,c)).to(device)\n",
    "Pred_L, _= net(ran_input)\n",
    "prediction_ext=Pred_L.detach().cpu().numpy().reshape((scale-burnin)*a, batch_new)\n",
    "acf_p=StatLoss.acf(Pred_L,method='bruteforce')\n",
    "\n",
    "LT=np.linspace(0,(scale-burnin)*a*delta_t,num=(scale-burnin)*a+1)\n",
    "LT=LT[0:-1]\n",
    "\n",
    "\n",
    "fig = plt.figure(0)\n",
    "ax = fig.add_axes([0.15, 0.15, 0.75, 0.75])\n",
    "plt.title(\"Short-time trajectories\",fontsize=15)\n",
    "plt.plot(t_store[Toss:]-t_store[Toss],q_store[:,0],label='MD simulation')\n",
    "plt.plot(LT[skip:]-LT[skip], prediction_ext[skip:, 1],'--',label='SINN simulation-Exponential')\n",
    "plt.xlim([0,40])\n",
    "plt.ylim([-0.5,10])\n",
    "plt.xlabel(r'$t$',fontsize=15)\n",
    "plt.ylabel(r'$x(t)$',fontsize=15)\n",
    "plt.legend(frameon=False,fontsize=15)\n",
    "plt.yticks([0,2,4,6,8,10],fontsize=15)\n",
    "plt.xticks(fontsize=15)\n",
    "# plt.savefig(\"figs/Poisson_traj_sT.pdf\", dpi=150)\n",
    "\n",
    "\n",
    "fig = plt.figure(1)\n",
    "ax = fig.add_axes([0.15, 0.15, 0.75, 0.75])\n",
    "plt.title(\"Long-time trajectories\",fontsize=15)\n",
    "plt.plot(t_store[Toss:]-t_store[Toss],q_store[:,0],label='MD simulation')\n",
    "plt.plot(LT[skip:]-LT[skip], prediction_ext[skip:, 1],'--',label='SINN simulation-Exponential')\n",
    "plt.xlim([0,500])\n",
    "plt.ylim([-0.5,10])\n",
    "plt.xlabel(r'$t$',fontsize=15)\n",
    "plt.ylabel(r'$x(t)$',fontsize=15)\n",
    "plt.legend(frameon=False,fontsize=15)\n",
    "plt.yticks([0,2,4,6,8,10],fontsize=15)\n",
    "plt.xticks(fontsize=15)\n",
    "# plt.savefig(\"figs/Poisson_traj_lT.pdf\", dpi=150)\n",
    "\n",
    "\n",
    "\n"
   ]
  }
 ],
 "metadata": {
  "accelerator": "GPU",
  "colab": {
   "collapsed_sections": [],
   "name": "Test_tranining_FPU",
   "provenance": []
  },
  "kernelspec": {
   "display_name": "lstm",
   "language": "python",
   "name": "lstm"
  },
  "language_info": {
   "codemirror_mode": {
    "name": "ipython",
    "version": 3
   },
   "file_extension": ".py",
   "mimetype": "text/x-python",
   "name": "python",
   "nbconvert_exporter": "python",
   "pygments_lexer": "ipython3",
   "version": "3.8.10"
  }
 },
 "nbformat": 4,
 "nbformat_minor": 1
}
