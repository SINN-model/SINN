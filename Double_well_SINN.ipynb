{
 "cells": [
  {
   "cell_type": "code",
   "execution_count": null,
   "metadata": {
    "colab": {
     "base_uri": "https://localhost:8080/"
    },
    "id": "PoQzTwPhp5Bf",
    "outputId": "2b7d25d9-4610-4b50-888b-bbbb89ec13d6"
   },
   "outputs": [],
   "source": [
    "!hostname"
   ]
  },
  {
   "cell_type": "code",
   "execution_count": null,
   "metadata": {
    "colab": {
     "base_uri": "https://localhost:8080/"
    },
    "id": "MjvKF2gOp7dZ",
    "outputId": "e527c178-cab4-4b6e-ebdf-4a24943a6483"
   },
   "outputs": [],
   "source": [
    "!nvidia-smi"
   ]
  },
  {
   "cell_type": "code",
   "execution_count": null,
   "metadata": {
    "colab": {
     "base_uri": "https://localhost:8080/"
    },
    "id": "a5QI46hyshM1",
    "outputId": "dc8aca57-b002-41f0-d1bd-ade33d79a39c"
   },
   "outputs": [],
   "source": [
    "import os\n",
    "print(os.getpid())"
   ]
  },
  {
   "cell_type": "code",
   "execution_count": null,
   "metadata": {
    "id": "3cvBm1VgCPiK"
   },
   "outputs": [],
   "source": [
    "import itertools as it\n",
    "import pickle\n",
    "import torch\n",
    "import torch.nn as nn\n",
    "import torch.optim as optim\n",
    "import torch.fft\n",
    "import torch.nn.functional as F\n",
    "import numpy as np\n",
    "import pandas as pd\n",
    "import matplotlib.pyplot as plt\n",
    "import sdeint\n",
    "from toolbox import (\n",
    "    make_loss,\n",
    "    StatLoss,\n",
    "    SINN,\n",
    "    FPU\n",
    ")"
   ]
  },
  {
   "cell_type": "code",
   "execution_count": null,
   "metadata": {},
   "outputs": [],
   "source": [
    "device = torch.device('cuda')"
   ]
  },
  {
   "cell_type": "code",
   "execution_count": null,
   "metadata": {
    "scrolled": false
   },
   "outputs": [],
   "source": [
    "%%time\n",
    "\n",
    "#### Generating SINN training data by solving the Langevin dynamics for the double-potential well\n",
    "\n",
    "import numpy as np\n",
    "import matplotlib.pyplot as plt\n",
    "from scipy import stats\n",
    "from scipy.integrate import quad\n",
    "\n",
    "def V_FPU(x,U0,x0,sigma):\n",
    "    v=U0/x0**4*x**3+U0/x0**2*x      # FPU potential \n",
    "    return v\n",
    "\n",
    "def V_double_well(x,U0,x0,sigma):\n",
    "    v=4*U0/x0**4*x**3-4*U0/x0**2*x+sigma/(2*x0)         # Double-well potential \n",
    "    return v \n",
    "\n",
    "def integrand(x,U0,x0,beta,sigma):\n",
    "    v=np.exp(-beta*(U0*(1-(x/x0)**2)**2+sigma*x/(2*x0)))        # integrand function\n",
    "    return v \n",
    "\n",
    "def integrand2(x,U0,x0,beta,sigma):\n",
    "    v=x**2*np.exp(-beta*(U0*(1-(x/x0)**2)**2+sigma*x/(2*x0)))        # integrand function\n",
    "    return v \n",
    "\n",
    "######## Paraemters \n",
    "gamma=1                   # Coupling constant \n",
    "beta=1                    # Inverse temperature, i.e. T=1/beta\n",
    "U0=4                      # Depth of the well \n",
    "x0=1                      # Basin of the well\n",
    "sigma=0                   # Asymmetry of the well \n",
    "dt=0.001                  # Step-size of the SDE solver \n",
    "delta_t=0.2               # Step-size of the temporally coarse-grained path\n",
    "batch = 400               # Batch size \n",
    "sec_length = 400          # Length of the input sequence \n",
    "I=quad(integrand,-10,10,args=(U0,x0,beta,sigma))\n",
    "I2=quad(integrand2,-10,10,args=(U0,x0,beta,sigma))   # PDF normalization constant (partition function) \n",
    "\n",
    "### SDE solver (EM scheme), \n",
    "Time = 4*delta_t*sec_length\n",
    "print(Time)\n",
    "length=int(Time/dt)+1\n",
    "t = np.linspace(0,Time,length) # define time axis\n",
    "gap=int(delta_t/dt)\n",
    "t_store=t[0:-1:gap]\n",
    "p_store = np.zeros([t_store.size+1,batch])\n",
    "q_store = np.zeros([t_store.size+1,batch])\n",
    "p=np.zeros((2,batch))\n",
    "q=np.zeros((2,batch))\n",
    "# solve SDE\n",
    "j=1\n",
    "for i in range(1,length):\n",
    "     q[1,:] = q[0,:] + p[0,:]*dt\n",
    "     p[1,:] = p[0,:] + (-V_double_well(q[0,:],U0,x0,sigma)-gamma*p[0,:])*dt + np.random.randn(1,batch)*np.sqrt(2*dt*gamma/beta)\n",
    "     if i % gap ==0:            \n",
    "            p_store[j,:]=p[1,:]\n",
    "            q_store[j,:]=q[1,:]\n",
    "            j=j+1\n",
    "     p[0,:]=p[1,:]\n",
    "     q[0,:]=q[1,:]\n",
    "\n",
    "Toss=int(t_store.size/2)\n",
    "p_store=p_store[Toss:-1,:]          \n",
    "q_store=q_store[Toss:-1,:]         \n",
    "print(p_store.shape,q_store.shape)\n",
    "\n",
    "\n",
    "\n",
    "\n",
    "plt.figure(1)\n",
    "for i in range(2):\n",
    "    plt.plot(t_store[Toss:]-t_store[Toss],q_store[:,i])\n",
    "plt.legend()\n",
    "plt.title(\"Solution of the Transtion dynamics\")\n",
    "\n",
    "\n",
    "## Calculating the acf for q(t) by brutal force\n",
    "Traj1=q_store\n",
    "T_acf=t_store[0:Traj1.shape[0]]\n",
    "acf_u=StatLoss.acf(torch.from_numpy(Traj1.reshape(Traj1.shape[0], batch,1)),method='bruteforce')\n",
    "acf_u_fft=StatLoss.acf(torch.from_numpy(Traj1.reshape(Traj1.shape[0], batch,1)))\n",
    "corr_u=acf_u.mean(axis=1).detach().cpu().numpy()\n",
    "corr_u_fft=acf_u_fft.mean(axis=1).detach().cpu().numpy()\n",
    "plt.figure(2)      \n",
    "fig, axs = plt.subplots(1, 2, figsize=(10, 4))\n",
    "axs[0].plot(T_acf, corr_u,'b',label='Brutal force')\n",
    "axs[0].plot(T_acf, corr_u_fft,'g--',label='FFT')\n",
    "axs[0].set_title('ACF of q(t)')\n",
    "axs[0].set_xlim([0,T_acf[-1]/2])\n",
    "axs[0].legend()\n",
    "axs[1].semilogy(T_acf, corr_u,'b')\n",
    "axs[1].semilogy(T_acf, np.zeros([Traj1.shape[0],1]),'r')\n",
    "axs[1].set_title('ACF of q(t) in log scale')\n",
    "axs[1].set_xlim([0,T_acf[-1]/2])\n",
    "plt.show()\n",
    "\n",
    "\n",
    "#####################  Construct the sample traj for SINN learning \n",
    "ini=np.random.randn(sec_length,batch)\n",
    "Traj=q_store[0:sec_length,:]\n",
    "T=np.arange(len(Traj[:,1]))*delta_t\n",
    "x=np.linspace(-5,5,sec_length)\n",
    "pdf_exact=np.exp(-beta*(U0*(1-(x/x0)**2)**2+sigma*x/(2*x0)))/I[0]\n",
    "print(ini.shape, Traj.shape)\n",
    "\n",
    "\n"
   ]
  },
  {
   "cell_type": "code",
   "execution_count": null,
   "metadata": {
    "id": "_khwqbnXWVYO"
   },
   "outputs": [],
   "source": [
    "# Reformulating data into Torch tensors \n",
    "# Input of SINN should be of the form (seq_len, batch, input_size)\n",
    "\n",
    "ini = np.random.randn(2*sec_length,batch).astype(np.float32) \n",
    "input = torch.from_numpy(ini.reshape(2*sec_length, batch,1)).to(device)\n",
    "batch_validation = batch\n",
    "val_set = torch.normal(0.0, 1.0, (2*sec_length, batch_validation, 1), device=device)\n",
    "\n",
    "# input of the LSTM should be of the form (seq_len, batch, input_size)\n",
    "Traj = Traj.astype(np.float32) \n",
    "target = torch.from_numpy(Traj.reshape(sec_length, batch,1)).to(device)\n",
    "PDF_exact=torch.from_numpy(pdf_exact).to(device)\n",
    "print('The torch input size is', input.size(), input.dtype)\n",
    "print('The torch validation size is', val_set.size(), val_set.dtype)\n",
    "print('The torch target size is', target.size(), target.dtype)"
   ]
  },
  {
   "cell_type": "code",
   "execution_count": null,
   "metadata": {
    "id": "RMly6oLYWfEc"
   },
   "outputs": [],
   "source": [
    "# Defining Loss functions\n",
    "\n",
    "LAGS = 400\n",
    "N = 400\n",
    "loss_acf_fft = make_loss('acf[fft]', target, lags=LAGS, device=device)\n",
    "loss_acf_q2 = make_loss('acf[fft]', target**2, lags=LAGS, device=device)\n",
    "loss_acf_bruteforce = make_loss('acf[bruteforce]', target, lags=LAGS, device=device)\n",
    "loss_acf_randbrute = make_loss('acf[randombrute]', target, lags=LAGS, sample_lags=20, device=device)\n",
    "loss_pdf_empirical = make_loss('pdf', target, lower=-5, upper=5, n=N, device=device)\n",
    "loss_pdf_exact = make_loss('pdf', PDF_exact, lower=-5, upper=5, n=N, device=device)"
   ]
  },
  {
   "cell_type": "code",
   "execution_count": null,
   "metadata": {},
   "outputs": [],
   "source": [
    "# Plotting target ACFs and PDF\n",
    "\n",
    "fig, axs = plt.subplots(1, 3, figsize=(8, 3))\n",
    "axs[0].plot(loss_acf_fft._target.cpu(),'r', label='fft')\n",
    "axs[0].plot(loss_acf_bruteforce._target.cpu(),'b:', label='bruteforce')\n",
    "axs[0].set_title('target empirical ACF')\n",
    "axs[0].set_ylim([0,1])\n",
    "axs[1].plot(loss_pdf_exact._target.cpu())\n",
    "x_grid=-np.linspace(-5,5,num=sec_length)\n",
    "axs[1].plot(np.exp(-beta*(U0*(1-(x_grid/x0)**2)**2+sigma*x_grid/(2*x0)))/I[0],'r--')\n",
    "axs[1].set_title('target empirical PDF')\n",
    "axs[2].plot(loss_acf_q2._target.cpu())\n",
    "axs[2].set_title('target empirical ACF for q^2')\n",
    "axs[0].legend()\n",
    "plt.show()"
   ]
  },
  {
   "cell_type": "code",
   "execution_count": null,
   "metadata": {},
   "outputs": [],
   "source": [
    "### Defining SINN model\n",
    "net = SINN(1, 25, 2, 1).to(device)\n",
    "optimizer = optim.Adam(net.parameters(), lr=1e-3)"
   ]
  },
  {
   "cell_type": "code",
   "execution_count": null,
   "metadata": {
    "id": "HTj11wAsW9Rc",
    "scrolled": true
   },
   "outputs": [],
   "source": [
    "%%time\n",
    "# Training SINN\n",
    "T_error=[]\n",
    "V_error=[]\n",
    "Step=[]\n",
    "for step in range(20000):\n",
    "    optimizer.zero_grad()\n",
    "    ini = np.random.randn(2*sec_length,batch).astype(np.float32) \n",
    "    input = torch.from_numpy(ini.reshape(2*sec_length, batch,1)).to(device)\n",
    "    prediction, _ = net(input)\n",
    "    prediction = prediction[-LAGS:,:,:]\n",
    "    loss = loss_acf_bruteforce(prediction) + loss_pdf_exact(prediction) + loss_acf_q2(prediction**2)\n",
    "    loss.backward()\n",
    "    optimizer.step()\n",
    "    if step % 50 == 0: \n",
    "        with torch.no_grad():\n",
    "            pred_val, _ = net(val_set)\n",
    "            pred_val = pred_val[-LAGS:,:,:]\n",
    "            loss_val = loss_acf_bruteforce(pred_val)+ loss_pdf_exact(pred_val) + loss_acf_q2(pred_val**2)\n",
    "            loss_val_acf = loss_acf_fft(pred_val)\n",
    "            print('[%d]-th step loss: %.3f, %.3f' % (step, loss, loss_val))\n",
    "            T_error.append(loss.detach().cpu().numpy())\n",
    "            V_error.append(loss_val.detach().cpu().numpy())\n",
    "            Step.append(step)\n",
    "    if loss<=0.05 and loss_val<=0.05:\n",
    "        optimizer = optim.Adam(net.parameters(), lr=0.3*1e-3) \n",
    "    if loss<=0.01 and loss_val<=0.01:\n",
    "        optimizer = optim.Adam(net.parameters(), lr=1e-4)    \n",
    "    if loss<=0.005 and loss_val<=0.005:\n",
    "        optimizer = optim.Adam(net.parameters(), lr=0.3*1e-4)\n",
    "    if loss<=0.001 and loss_val<=0.001:\n",
    "            break\n",
    "print('Training finished')"
   ]
  },
  {
   "cell_type": "code",
   "execution_count": null,
   "metadata": {},
   "outputs": [],
   "source": [
    "### Plotting the training and the generalization error\n",
    "fig = plt.figure(1)\n",
    "ax = fig.add_axes([0.15, 0.15, 0.75, 0.75])\n",
    "plt.title(\"Error plot\",fontsize=15) \n",
    "plt.loglog(Step, T_error,'r',label='Training error')\n",
    "plt.loglog(Step, V_error,'b--',label='Validation error')\n",
    "plt.xlabel(r'Training times $n$',fontsize=15)\n",
    "plt.ylabel(r'$l_1+l_2$',fontsize=15)\n",
    "plt.legend(frameon=False,fontsize=15)\n",
    "# plt.savefig(\"figs/double_well_training_error.pdf\", dpi=150)\n"
   ]
  },
  {
   "cell_type": "code",
   "execution_count": null,
   "metadata": {
    "id": "cFvpJoZeXAnz"
   },
   "outputs": [],
   "source": [
    "# # Gaussian random input\n",
    "ran_input=torch.randn(input.size(),dtype=input.dtype,layout=input.layout, device=input.device)\n",
    "Pred,_= net(ran_input)\n",
    "prediction=Pred[-sec_length:,:,:].detach().cpu().numpy().reshape(sec_length, batch)"
   ]
  },
  {
   "cell_type": "code",
   "execution_count": null,
   "metadata": {
    "id": "RtC5SsuaXCaD"
   },
   "outputs": [],
   "source": [
    "# Test 1: plot the sample path generated by SINN and the exact sample path \n",
    "skip = 0\n",
    "\n",
    "fig = plt.figure(0)\n",
    "ax = fig.add_axes([0.15, 0.15, 0.75, 0.75])\n",
    "plt.title(\"MD trajectories\",fontsize=15) \n",
    "plt.plot(T[skip:]-T[skip], Traj[skip:, 0])\n",
    "plt.plot(T[skip:]-T[skip], Traj[skip:, 1])\n",
    "plt.plot(T[skip:]-T[skip], Traj[skip:, 2])\n",
    "for i in range(100):\n",
    "    plt.plot(T[skip:]-T[skip], Traj[skip:, i])   \n",
    "plt.ylim([-1.5,1.5])\n",
    "plt.xlabel(r'$t$',fontsize=15)\n",
    "plt.ylabel(r'$x(t)$',fontsize=15)\n",
    "plt.xticks(fontsize=15)\n",
    "plt.yticks(fontsize=15)     \n",
    "# plt.savefig(\"figs/double_well_MD_traj_multi.pdf\", dpi=150)\n",
    "\n",
    "\n",
    "fig = plt.figure(1)\n",
    "ax = fig.add_axes([0.15, 0.15, 0.75, 0.75])\n",
    "plt.title(\"SINN trajectories\",fontsize=15)    \n",
    "plt.plot(T[skip:]-T[skip], prediction[skip:, 0])\n",
    "plt.plot(T[skip:]-T[skip], prediction[skip:, 1])\n",
    "plt.plot(T[skip:]-T[skip], prediction[skip:, 2])\n",
    "for i in range(100):\n",
    "    plt.plot(T[skip:]-T[skip], prediction[skip:, i])\n",
    "plt.ylim([-1.5,1.5])\n",
    "plt.xlabel(r'$t$',fontsize=15)\n",
    "plt.ylabel(r'$x(t)$',fontsize=15)\n",
    "plt.xticks(fontsize=15)\n",
    "plt.yticks(fontsize=15)\n",
    "# plt.savefig(\"figs/double_well_traj_multi.pdf\", dpi=150)\n",
    "\n"
   ]
  },
  {
   "cell_type": "code",
   "execution_count": null,
   "metadata": {
    "id": "M8YcJ51nXPRb"
   },
   "outputs": [],
   "source": [
    "# Test 2: plot the ACF of the sample path generated by the SINN and the exact ACF  \n",
    "\n",
    "acf_p=StatLoss.acf(Pred[-sec_length:,:,:],method='bruteforce')\n",
    "acf_t=StatLoss.acf(target)\n",
    "corr_p=acf_p.mean(axis=1).detach().cpu().numpy()\n",
    "corr_t=acf_t.mean(axis=1).detach().cpu().numpy()\n",
    "\n",
    "plt.figure(1)\n",
    "plt.title(\"Normalized correlation function\")    \n",
    "plt.plot(T_acf, corr_u,'r',label='Exact correlation')               # Exact correlation function \n",
    "print(T.size, ran_input.size(), corr_t.size, corr_p.size)\n",
    "plt.plot(T, corr_t,'b-.',label='Correlation of the target')         # Correlation function of the target \n",
    "plt.plot(T, corr_p, 'g--',label='Correlation of the output')        # Correlation function after the training \n",
    "plt.ylim(-0.5,1)\n",
    "plt.xlim(0,T[-1])\n",
    "plt.legend()\n"
   ]
  },
  {
   "cell_type": "code",
   "execution_count": null,
   "metadata": {
    "id": "xZB6UA0dd11C"
   },
   "outputs": [],
   "source": [
    "# Test 3: plot the PDF of the sample path generated by SINN and the exact PDF  \n",
    "rho_data =  StatLoss.gauss_kde(target, -5, 5, 100).cpu()\n",
    "rho_input = StatLoss.gauss_kde(ran_input, -5, 5, 100).cpu()\n",
    "rho_prediction = StatLoss.gauss_kde(Pred[-sec_length:,:,:].detach(), -5, 5, 100).cpu()\n",
    "print(target.detach().cpu()[0:5,0,0])\n",
    "print(Pred.detach().cpu()[0:5,0,0])\n",
    "\n",
    "x=np.linspace(-5, 5, 100)\n",
    "fig = plt.figure(0)\n",
    "ax = fig.add_axes([0.15, 0.15, 0.75, 0.75])\n",
    "plt.title(\"Equilibrium probability density function\",fontsize=15)    \n",
    "# plt.plot(x, rho_data.numpy(), 'r',label='PDF of the target')    # target PDF\n",
    "plt.plot(x, np.exp(-beta*(U0*(1-(x/x0)**2)**2+sigma*x/(2*x0)))/I[0], 'r',label='Exact PDF') \n",
    "plt.plot(x, rho_input.numpy(), 'b:', label='PDF of the input')     # PDF of the input\n",
    "plt.plot(x, rho_prediction.numpy(), 'g--',label='PDF of the output')  # PDF after the training \n",
    "plt.xlim(-5,5)\n",
    "plt.ylim(0,2)\n",
    "plt.xlabel(r'$x$',fontsize=15)\n",
    "plt.ylabel(r'$\\rho(x)$',fontsize=15)\n",
    "plt.legend(frameon=False,fontsize=15)\n",
    "plt.xticks(fontsize=15)\n",
    "plt.yticks(fontsize=15)\n",
    "# plt.savefig(\"figs/double_well_pdf.pdf\", dpi=150)\n",
    "\n"
   ]
  },
  {
   "cell_type": "code",
   "execution_count": null,
   "metadata": {
    "id": "_J3tU5DyJlkJ"
   },
   "outputs": [],
   "source": [
    "# Test 4: Comparing the higher-order ACF\n",
    "acf2=StatLoss.acf(target**2)\n",
    "pred_norm=torch.from_numpy((prediction).reshape(sec_length, batch,1))\n",
    "acf2_app=StatLoss.acf(pred_norm**2)\n",
    "\n",
    "fig = plt.figure(0)\n",
    "ax = fig.add_axes([0.15, 0.15, 0.75, 0.75])\n",
    "plt.title(r'Normalized ACF',fontsize=15)    \n",
    "plt.plot(T, acf2.mean(axis=1).detach().cpu().numpy(),'r',label=r'Exact correlation of $x^2(t)$')        # Exact correlation function \n",
    "plt.plot(T, acf2_app.mean(axis=1).detach().cpu().numpy(), 'g--',label=r'Correlation of the output')        # Correlation function after the training \n",
    "plt.xlim(0,30)\n",
    "plt.xlabel(r'$t$',fontsize=15)\n",
    "plt.ylabel(r'$C(t)/C(0)$',fontsize=15)\n",
    "plt.yticks(fontsize=15)\n",
    "plt.xticks(fontsize=15)\n",
    "plt.legend(frameon=False,fontsize=15)\n",
    "# plt.savefig(\"figs/double_well_acf2.pdf\", dpi=150)\n",
    "\n",
    "\n"
   ]
  },
  {
   "cell_type": "code",
   "execution_count": null,
   "metadata": {},
   "outputs": [],
   "source": [
    "# Test 5: plot the expolation result, i.e. Prediction of the double-well Langevin dynamics for longer time \n",
    "[a,b,c]=input.size()\n",
    "scale=10\n",
    "burnin=5\n",
    "fold=20\n",
    "batch_new=100\n",
    "print(scale*a*delta_t)\n",
    "ran_input=torch.randn((scale*a,batch_new,c),dtype=input.dtype,layout=input.layout, device=input.device)\n",
    "Pred_L, _= net(ran_input)\n",
    "prediction_ext=Pred_L.detach().cpu().numpy().reshape(scale*a, batch_new)\n",
    "prediction_ext=prediction_ext[burnin*a:,:]\n",
    "acf_p=StatLoss.acf(Pred_L[burnin*a:,:,:],method='bruteforce')\n",
    "\n",
    "LT=np.linspace(0,(scale-burnin)*a*delta_t,num=(scale-burnin)*a+1)\n",
    "LT=LT[0:-1]\n",
    "print(LT.shape,prediction_ext.shape)\n",
    "\n",
    "fig = plt.figure(0)\n",
    "ax = fig.add_axes([0.15, 0.15, 0.75, 0.75])\n",
    "plt.title(\"Short-time trajectories\",fontsize=15)\n",
    "plt.plot(t_store[Toss:]-t_store[Toss],q_store[:,0],label='MD simulation')\n",
    "plt.plot(LT, prediction_ext[:, 0],'--',label='SINN simulation')\n",
    "plt.xlim([0,80])\n",
    "plt.ylim([-2,2])\n",
    "plt.xlabel(r'$t$',fontsize=15)\n",
    "plt.ylabel(r'$x(t)$',fontsize=15)\n",
    "plt.legend(frameon=False,fontsize=15)\n",
    "plt.yticks([-2,-1,0,1,2],fontsize=15)\n",
    "plt.xticks(fontsize=15)\n",
    "# plt.savefig(\"figs/double_well_traj_sT.pdf\", dpi=150)\n",
    "\n",
    "\n",
    "fig = plt.figure(1)\n",
    "ax = fig.add_axes([0.15, 0.15, 0.75, 0.75])\n",
    "plt.title(\"Long-time trajectories\",fontsize=15)\n",
    "plt.plot(t_store[Toss:]-t_store[Toss],q_store[:,0],label='MD simulation')\n",
    "plt.plot(LT, prediction_ext[:, 0],'--',label='SINN simulation')\n",
    "plt.xlim([0,1000])\n",
    "plt.ylim([-2,2])\n",
    "plt.xlabel(r'$t$',fontsize=15)\n",
    "plt.ylabel(r'$x(t)$',fontsize=15)\n",
    "plt.legend(frameon=False,fontsize=15)\n",
    "plt.yticks([-2,-1,0,1,2],fontsize=15)\n",
    "plt.xticks(fontsize=15)\n",
    "# plt.savefig(\"figs/double_well_traj_lT.pdf\", dpi=150)\n",
    "\n"
   ]
  },
  {
   "cell_type": "code",
   "execution_count": null,
   "metadata": {},
   "outputs": [],
   "source": []
  }
 ],
 "metadata": {
  "accelerator": "GPU",
  "colab": {
   "collapsed_sections": [],
   "name": "Test_tranining_FPU",
   "provenance": []
  },
  "kernelspec": {
   "display_name": "lstm",
   "language": "python",
   "name": "lstm"
  },
  "language_info": {
   "codemirror_mode": {
    "name": "ipython",
    "version": 3
   },
   "file_extension": ".py",
   "mimetype": "text/x-python",
   "name": "python",
   "nbconvert_exporter": "python",
   "pygments_lexer": "ipython3",
   "version": "3.8.10"
  }
 },
 "nbformat": 4,
 "nbformat_minor": 1
}
